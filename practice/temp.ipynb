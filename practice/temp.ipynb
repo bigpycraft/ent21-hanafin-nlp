{
 "cells": [
  {
   "cell_type": "markdown",
   "metadata": {
    "collapsed": true
   },
   "source": [
    "# Industry 4.0 의 중심, BigData"
   ]
  },
  {
   "cell_type": "markdown",
   "metadata": {
    "collapsed": true
   },
   "source": [
    "<div align='right'><font size=2 color='gray'>Data Processing Based Python @ <font color='blue'><a href='https://www.facebook.com/jskim.kr'>FB / jskim.kr</a></font>, [김진수](bigpycraft@gmail.com)</font></div>\n",
    "<hr>"
   ]
  },
  {
   "cell_type": "markdown",
   "metadata": {},
   "source": [
    "## <font color='brown'>Python Basic </font>\n",
    ">  \n",
    "- 표준출력문, print( )\n",
    "- 표준입력문, input( )\n",
    "- 주석문, comment"
   ]
  },
  {
   "cell_type": "markdown",
   "metadata": {},
   "source": [
    "### 문자 출력"
   ]
  },
  {
   "cell_type": "code",
   "execution_count": 1,
   "metadata": {},
   "outputs": [
    {
     "name": "stdout",
     "output_type": "stream",
     "text": [
      "Hello, Python !!\n",
      "반갑습니다. \n",
      "파이썬세계로 온것을 환영합니다.\n",
      "문자는 반드시 인용부호(' ' 혹은 \" \")로 감싸야 합니다.\n"
     ]
    }
   ],
   "source": [
    "# 문자 출력\n",
    "print('Hello, Python !!')\n",
    "print('반갑습니다. \\n파이썬세계로 온것을 환영합니다.')\n",
    "print(\"문자는 반드시 인용부호(\\' \\' 혹은 \\\" \\\")로 감싸야 합니다.\")"
   ]
  },
  {
   "cell_type": "markdown",
   "metadata": {},
   "source": [
    "### 숫자 출력"
   ]
  },
  {
   "cell_type": "code",
   "execution_count": 2,
   "metadata": {},
   "outputs": [
    {
     "name": "stdout",
     "output_type": "stream",
     "text": [
      "100\n",
      "350\n",
      "-50\n"
     ]
    }
   ],
   "source": [
    "# 숫자 출력\n",
    "print(100)\n",
    "print(150 + 200)\n",
    "print(150 - 200)"
   ]
  },
  {
   "cell_type": "code",
   "execution_count": 3,
   "metadata": {},
   "outputs": [
    {
     "name": "stdout",
     "output_type": "stream",
     "text": [
      "x =  50\n",
      "y =  4.0\n",
      "x + y =  54.0\n",
      "x - y =  46.0\n",
      "x * y =  200.0\n",
      "x / y =  12.5\n",
      "x //y =  12.0\n",
      "x % y =  2.0\n",
      "-x =  -50\n",
      "+x =  50\n",
      "x ** y =  6250000.0\n",
      "pow(x,y) =  6250000.0\n"
     ]
    }
   ],
   "source": [
    "# 기본연산\n",
    "x = 50\n",
    "y = 4.\n",
    "\n",
    "print(\"x = \", x)\n",
    "print(\"y = \", y)\n",
    "print(\"x + y = \" , x+y)\n",
    "print(\"x - y = \" , x-y)\n",
    "print(\"x * y = \" , x*y)\n",
    "print(\"x / y = \" , x/y)\n",
    "print(\"x //y = \" , x//y)\n",
    "print(\"x % y = \" , x%y)\n",
    "print(\"-x = \"    , -x)\n",
    "print(\"+x = \"    , +x)\n",
    "print(\"x ** y = \", x**y)\n",
    "print(\"pow(x,y) = \", pow(x,y))"
   ]
  },
  {
   "cell_type": "markdown",
   "metadata": {},
   "source": [
    "### 변수, Variable"
   ]
  },
  {
   "cell_type": "code",
   "execution_count": 4,
   "metadata": {},
   "outputs": [
    {
     "name": "stdout",
     "output_type": "stream",
     "text": [
      "홍길동 안녕\n",
      "안녕 홍길동\n",
      "홍길동님, 안녕하세요\n"
     ]
    }
   ],
   "source": [
    "# 변수에 문자담기\n",
    "name = '홍길동'\n",
    "greeting = '안녕'\n",
    "\n",
    "print(name, greeting)\n",
    "print(greeting, name)\n",
    "\n",
    "text = name + '님, ' + greeting + '하세요'\n",
    "print(text)"
   ]
  },
  {
   "cell_type": "code",
   "execution_count": 5,
   "metadata": {
    "collapsed": true
   },
   "outputs": [],
   "source": [
    "# 변수에 숫자담기\n",
    "coffee1_name = '카페라떼';  coffee1_val = 4000;\n",
    "coffee2_name = '카푸치노';  coffee2_val = 4500;\n",
    "coffee3_name = '마끼야또';  coffee3_val = 5000;"
   ]
  },
  {
   "cell_type": "code",
   "execution_count": 6,
   "metadata": {},
   "outputs": [
    {
     "name": "stdout",
     "output_type": "stream",
     "text": [
      "손님, 카페라떼카푸치노마끼야또를 주문하셨습니다.\n"
     ]
    },
    {
     "ename": "TypeError",
     "evalue": "must be str, not int",
     "output_type": "error",
     "traceback": [
      "\u001b[1;31m---------------------------------------------------------------------------\u001b[0m",
      "\u001b[1;31mTypeError\u001b[0m                                 Traceback (most recent call last)",
      "\u001b[1;32m<ipython-input-6-da9cbaf4d95b>\u001b[0m in \u001b[0;36m<module>\u001b[1;34m()\u001b[0m\n\u001b[0;32m      1\u001b[0m \u001b[1;31m# Case 1\u001b[0m\u001b[1;33m\u001b[0m\u001b[1;33m\u001b[0m\u001b[0m\n\u001b[0;32m      2\u001b[0m \u001b[0mprint\u001b[0m\u001b[1;33m(\u001b[0m\u001b[1;34m'손님, '\u001b[0m \u001b[1;33m+\u001b[0m \u001b[0mcoffee1_name\u001b[0m \u001b[1;33m+\u001b[0m \u001b[0mcoffee2_name\u001b[0m \u001b[1;33m+\u001b[0m \u001b[0mcoffee3_name\u001b[0m \u001b[1;33m+\u001b[0m \u001b[1;34m'를 주문하셨습니다.'\u001b[0m\u001b[1;33m)\u001b[0m\u001b[1;33m\u001b[0m\u001b[0m\n\u001b[1;32m----> 3\u001b[1;33m \u001b[0mprint\u001b[0m\u001b[1;33m(\u001b[0m\u001b[1;34m'가격은 '\u001b[0m \u001b[1;33m+\u001b[0m \u001b[0mcoffee1_val\u001b[0m \u001b[1;33m+\u001b[0m \u001b[0mcoffee2_val\u001b[0m \u001b[1;33m+\u001b[0m \u001b[0mcoffee3_val\u001b[0m \u001b[1;33m+\u001b[0m \u001b[1;34m'원 입니다.'\u001b[0m\u001b[1;33m)\u001b[0m\u001b[1;33m\u001b[0m\u001b[0m\n\u001b[0m\u001b[0;32m      4\u001b[0m \u001b[1;31m# TypeError 발생\u001b[0m\u001b[1;33m\u001b[0m\u001b[1;33m\u001b[0m\u001b[0m\n",
      "\u001b[1;31mTypeError\u001b[0m: must be str, not int"
     ]
    }
   ],
   "source": [
    "# Case 1 \n",
    "print('손님, ' + coffee1_name + coffee2_name + coffee3_name + '를 주문하셨습니다.')\n",
    "print('가격은 ' + coffee1_val + coffee2_val + coffee3_val + '원 입니다.')\n",
    "# TypeError 발생"
   ]
  },
  {
   "cell_type": "code",
   "execution_count": 7,
   "metadata": {},
   "outputs": [
    {
     "name": "stdout",
     "output_type": "stream",
     "text": [
      "손님, 카페라떼카푸치노마끼야또를 주문하셨습니다.\n",
      "가격은 13500원 입니다.\n"
     ]
    }
   ],
   "source": [
    "# Case 2\n",
    "print('손님, ' + coffee1_name + coffee2_name + coffee3_name + '를 주문하셨습니다.')\n",
    "print('가격은 ' + str(coffee1_val + coffee2_val + coffee3_val) + '원 입니다.')"
   ]
  },
  {
   "cell_type": "code",
   "execution_count": 8,
   "metadata": {},
   "outputs": [
    {
     "name": "stdout",
     "output_type": "stream",
     "text": [
      "손님, \n",
      "카페라떼, 카푸치노, 마끼야또를 주문하셨습니다.\n",
      "가격은 13500원 입니다.\n"
     ]
    }
   ],
   "source": [
    "# Case 3\n",
    "coffee_val = coffee1_val + coffee2_val + coffee3_val\n",
    "print('손님, \\n%s, %s, %s를 주문하셨습니다.' % (coffee1_name, coffee2_name, coffee3_name))\n",
    "print('가격은 %d원 입니다.' % coffee_val)"
   ]
  },
  {
   "cell_type": "markdown",
   "metadata": {},
   "source": [
    "### 표준 입력 함수"
   ]
  },
  {
   "cell_type": "code",
   "execution_count": 9,
   "metadata": {},
   "outputs": [
    {
     "name": "stdout",
     "output_type": "stream",
     "text": [
      "당신의 이름은 무엇입니까? 김하나\n",
      "김하나님, 반갑습니다.\n"
     ]
    }
   ],
   "source": [
    "# Case 1\n",
    "name = input('당신의 이름은 무엇입니까? ')\n",
    "\n",
    "print(name + '님, 반갑습니다.')"
   ]
  },
  {
   "cell_type": "code",
   "execution_count": 10,
   "metadata": {},
   "outputs": [
    {
     "name": "stdout",
     "output_type": "stream",
     "text": [
      "OO카페입니다. \n",
      "무엇을 주문하시겠습니까? 아메리카노\n",
      "몇 잔을 드릴까요? 2\n",
      "아메리카노 2잔을 주문하셨습니다. \n",
      "잠시만 기다려주세요~^^\n"
     ]
    }
   ],
   "source": [
    "# Case 2\n",
    "order = input('OO카페입니다. \\n무엇을 주문하시겠습니까? ')\n",
    "count = input('몇 잔을 드릴까요? ')\n",
    "\n",
    "print('%s %s잔을 주문하셨습니다. \\n잠시만 기다려주세요~^^' % (order, count))"
   ]
  },
  {
   "cell_type": "code",
   "execution_count": 11,
   "metadata": {},
   "outputs": [
    {
     "name": "stdout",
     "output_type": "stream",
     "text": [
      "아메리카노 2잔을 주문하셨습니다. \n",
      "결재하실 금액은 222222222222222222222222222222222222222222222222222222222222222222222222222222222222222222222222222222222222222222222222222222222222222222222222222222222222222222222222222222222222222222222222222222222222222222222222222222222222222222222222222222222222222222222222222222222222222222222222222222222222222222222222222222222222222222222222222222222222222222222222222222222222222222222222222222222222222222222222222222222222222222222222222222222222222222222222222222222222222222222222222222222222222222222222222222222222222222222222222222222222222222222222222222222222222222222222222222222222222222222222222222222222222222222222222222222222222222222222222222222222222222222222222222222222222222222222222222222222222222222222222222222222222222222222222222222222222222222222222222222222222222222222222222222222222222222222222222222222222222222222222222222222222222222222222222222222222222222222222222222222222222222222222222222222222222222222222222222222222222222222222222222222222222222222222222222222222222222222222222222222222222222222222222222222222222222222222222222222222222222222222222222222222222222222222222222222222222222222222222222222222222222222222222222222222222222222222222222222222222222222222222222222222222222222222222222222222222222222222222222222222222222222222222222222222222222222222222222222222222222222222222222222222222222222222222222222222222222222222222222222222222222222222222222222222222222222222222222222222222222222222222222222222222222222222222222222222222222222222222222222222222222222222222222222222222222222222222222222222222222222222222222222222222222222222222222222222222222222222222222222222222222222222222222222222222222222222222222222222222222222222222222222222222222222222222222222222222222222222222222222222222222222222222222222222222222222222222222222222222222222222222222222222222222222222222222222222222222222222222222222222222222222222222222222222222222222222222222222222222222222222222222222222222222222222222222222222222222222222222222222222222222222222222222222222222222222222222222222222222222222222222222222222222222222222222222222222222222222222222222222222222222222222222222222222222222222222222222222222222222222222222222222222222222222222222222222222222222222222222222222222222222222222222222222222222222222222222222222222222222222222222222222222222222222222222222222222222222222222222222222222222222222222222222222222222222222222222222222222222222222222222222222222222222222222222222222222222222222222222222222222222222222222222222222222222222222222222222222222222222222222222222222222222222222222222222222222222222222222222222222222222222222222222222222222222222222222222222222222222222222222222222222222222222222222222222222222222222222222222222222222222222222222222222222222222222222222222222222222222222222222222222222222222222222222222222222222222222222222222222222222222222222222222222222222222222222222222222222222222222222222222222222222222222222222222222222222222222222222222222222222222222222222222222222222222222222222222222222222222222222222222222222222222222222222222222222222222222222222222222222222222222222222222222222222222222222222222222222222222222222222222222222222222222222222222222222222222222222222222222222222222222222222222222222222222222222222222222222222222222222222222222222222222222222222222222222222222222222222222222222222222222222222222222222222222222222222222222222222222222222222222222222222222222222222222222222222222222222222222222222222222222222222222222222222222222222222222222222222222222222222222222222222222222222222222222222222222222222222222222222222222222222222222222222222222222222222222222222222222222222222222222222222222222222222222222222222222222222222222222222222222222222222222222222222222222222222222222222222222222222222222222222222222222222222222222222222222222222222222222222222222222222222222222222222222222222222222222222222222222222222222222222222222222222222222222222222222222222222222222222222222222222222222222222222222222222222222222222222222222222222222222222222222222222222222222222222222222222222222222222222222222222222222222222222222222222222222222222222222222222222222222222222222222222222222222222222222222222222222222222222222222222222222222222222222222222222222222222222222222222222222222222222222222222222222222222222222222222222222222222222222222222222222222222222222222222222222222222222222222222222222222222222222222222222222222222222222222222222222222222222222222222222222222222222222222222222222222222222222222222222222222222222222222222222222222222222222222222222222222222원입니다~^^\n"
     ]
    }
   ],
   "source": [
    "# Case 3\n",
    "price = 4500\n",
    "cost  = price * count\n",
    "\n",
    "print('%s %s잔을 주문하셨습니다. \\n결재하실 금액은 %s원입니다~^^' % (order, count, cost))"
   ]
  },
  {
   "cell_type": "code",
   "execution_count": 12,
   "metadata": {},
   "outputs": [
    {
     "name": "stdout",
     "output_type": "stream",
     "text": [
      "아메리카노 2잔을 주문하셨습니다. \n",
      "결재하실 금액은 9000원입니다~^^\n"
     ]
    }
   ],
   "source": [
    "# Case 4\n",
    "price = 4500\n",
    "cost  = price * int(count)\n",
    "\n",
    "print('%s %s잔을 주문하셨습니다. \\n결재하실 금액은 %d원입니다~^^' % (order, count, cost))"
   ]
  },
  {
   "cell_type": "markdown",
   "metadata": {},
   "source": [
    "### 주석문\n",
    "> \n",
    "- 한줄 주석 : 샵기호(#)로 시작하는 줄\n",
    "- 블럭 주석 : 큰따옴표 3개로 감사는 줄"
   ]
  },
  {
   "cell_type": "code",
   "execution_count": 13,
   "metadata": {},
   "outputs": [
    {
     "name": "stdout",
     "output_type": "stream",
     "text": [
      "Hello World!\n",
      "Hello World!\n",
      "Hello World!\n"
     ]
    }
   ],
   "source": [
    "# 이 줄은 라인 코멘트입니다\n",
    "print (\"Hello World!\")\n",
    "print (\"Hello World!\")    # 이것도 라인 코멘트입니다\n",
    "print (\"Hello World!\")    # 이것도 라인 코멘트입니다"
   ]
  },
  {
   "cell_type": "code",
   "execution_count": 14,
   "metadata": {},
   "outputs": [
    {
     "name": "stdout",
     "output_type": "stream",
     "text": [
      "12\n",
      "파이선의 주석은 샵기호(#)로 시작합니다.\n"
     ]
    }
   ],
   "source": [
    "# First comment\n",
    "a = 12    # second comment\n",
    "# a 값을 출력해보세요!\n",
    "\n",
    "print(a)\n",
    "b = '파이선의 주석은 샵기호(#)로 시작합니다.'\n",
    "print(b)\n",
    "# 마지막 라인입니다."
   ]
  },
  {
   "cell_type": "code",
   "execution_count": 15,
   "metadata": {
    "collapsed": true
   },
   "outputs": [],
   "source": [
    "# Comment, 한줄주석과 블럭주석\n",
    "\n",
    "\"\"\"\n",
    "블럭주석, \n",
    "즉 멀티라인의 주석문은 따옴표(''' ''') 3개\n",
    "\"\"\"\n",
    "# 한줄주석문은 샵(#)기호\n",
    "\n",
    "pass"
   ]
  },
  {
   "cell_type": "code",
   "execution_count": 16,
   "metadata": {},
   "outputs": [
    {
     "name": "stdout",
     "output_type": "stream",
     "text": [
      "Once deleted, variables cannot be recovered. Proceed (y/[n])? \n",
      "Nothing done.\n"
     ]
    }
   ],
   "source": [
    "%reset"
   ]
  },
  {
   "cell_type": "markdown",
   "metadata": {},
   "source": [
    "### Turtle Exam"
   ]
  },
  {
   "cell_type": "code",
   "execution_count": null,
   "metadata": {
    "collapsed": true
   },
   "outputs": [],
   "source": [
    "# 거북이 소개\n",
    "import turtle\n",
    "import time\n",
    "\n",
    "input ('엔터를 치면 거북이를 소개합니다.^^')\n",
    "\n",
    "turtle.shape('turtle')\n",
    "\n",
    "print('앞으로 전진합니다.')\n",
    "time.sleep(1)\n",
    "turtle.forward(100)\n",
    "\n",
    "print('한번더 앞으로 전진합니다.')\n",
    "time.sleep(1)\n",
    "turtle.forward(100)\n",
    "\n",
    "print('왼쪽으로 전진합니다.')\n",
    "time.sleep(1)\n",
    "turtle.left(90)\n",
    "turtle.forward(100)\n",
    "\n",
    "print('오른쪽으로 전진합니다.')\n",
    "time.sleep(1)\n",
    "turtle.right(90)\n",
    "turtle.forward(100)\n",
    "\n",
    "turtle.done()"
   ]
  },
  {
   "cell_type": "code",
   "execution_count": null,
   "metadata": {
    "collapsed": true
   },
   "outputs": [],
   "source": [
    "# 거북이로 다각형 그리기 \n",
    "import turtle\n",
    "\n",
    "turtle.pensize(10)\n",
    "\n",
    "# 사각형 그리기\n",
    "input('엔터를 치면 사각형을 그립니다.')\n",
    "\n",
    "turtle.color(\"red\")\n",
    "turtle.forward(200)\n",
    "\n",
    "turtle.left(90)\n",
    "turtle.forward(200)\n",
    "\n",
    "turtle.left(90)\n",
    "turtle.forward(200)\n",
    "\n",
    "turtle.left(90)\n",
    "turtle.forward(200)\n",
    "\n",
    "turtle.done()"
   ]
  },
  {
   "cell_type": "code",
   "execution_count": null,
   "metadata": {
    "collapsed": true
   },
   "outputs": [],
   "source": [
    "# 삼각형 그리기\n",
    "input('엔터를 치면 빨간색 삼각형을 그립니다.')\n",
    "\n",
    "turtle.color(\"green\")\n",
    "\n",
    "turtle.right(30)\n",
    "turtle.forward(300)\n",
    "\n",
    "turtle.left(120)\n",
    "turtle.forward(300)\n",
    "\n",
    "turtle.left(120)\n",
    "turtle.forward(300)\n",
    "\n",
    "turtle.done()"
   ]
  },
  {
   "cell_type": "code",
   "execution_count": null,
   "metadata": {
    "collapsed": true
   },
   "outputs": [],
   "source": [
    "# 원그리기\n",
    "input('엔터를 치면 파란색 굵은 원을 그립니다.')\n",
    "\n",
    "turtle.right(30)\n",
    "turtle.color(\"blue\")\n",
    "turtle.circle(200)\n",
    "\n",
    "turtle.done()"
   ]
  },
  {
   "cell_type": "code",
   "execution_count": null,
   "metadata": {
    "collapsed": true
   },
   "outputs": [],
   "source": [
    "# 사각형 그리기 응용\n",
    "import turtle\n",
    "\n",
    "size  = input('사각형의 크기를 입력하세요.[100~300] ')\n",
    "color = input('선의 색깔을 입력하세요.[red / green / blue]  ')\n",
    "thick = input('펜의 굵기를 입력하세요.[1~30]   ')\n",
    "\n",
    "angle = 90\n",
    "thick = int(thick)\n",
    "size  = int(size)\n",
    "\n",
    "turtle.color(color)\n",
    "turtle.pensize(thick)\n",
    "\n",
    "turtle.left(angle)\n",
    "turtle.forward(size)\n",
    "\n",
    "turtle.left(angle)\n",
    "turtle.forward(size)\n",
    "\n",
    "turtle.left(angle)\n",
    "turtle.forward(size)\n",
    "\n",
    "turtle.left(angle)\n",
    "turtle.forward(size)\n",
    "\n",
    "turtle.done()"
   ]
  },
  {
   "cell_type": "markdown",
   "metadata": {},
   "source": [
    "<hr>\n",
    "<marquee><font size=3 color='brown'>The BigpyCraft find the information to design valuable society with Technology & Craft.</font></marquee>\n",
    "<div align='right'><font size=2 color='gray'> &lt; The End &gt; </font></div>"
   ]
  }
 ],
 "metadata": {
  "kernelspec": {
   "display_name": "Python 3",
   "language": "python",
   "name": "python3"
  },
  "language_info": {
   "codemirror_mode": {
    "name": "ipython",
    "version": 3
   },
   "file_extension": ".py",
   "mimetype": "text/x-python",
   "name": "python",
   "nbconvert_exporter": "python",
   "pygments_lexer": "ipython3",
   "version": "3.7.1"
  }
 },
 "nbformat": 4,
 "nbformat_minor": 2
}
